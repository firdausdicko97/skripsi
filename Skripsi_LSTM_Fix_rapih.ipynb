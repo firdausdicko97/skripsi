{
  "nbformat": 4,
  "nbformat_minor": 0,
  "metadata": {
    "colab": {
      "name": "Skripsi: LSTM Fix rapih.ipynb",
      "provenance": [],
      "mount_file_id": "10d10CIoRjKT_Qk7NT2GZMshQ22yFV3cx",
      "authorship_tag": "ABX9TyNzcTY5OLq49MWVcDKE5+qX",
      "include_colab_link": true
    },
    "kernelspec": {
      "name": "python3",
      "display_name": "Python 3"
    },
    "language_info": {
      "name": "python"
    }
  },
  "cells": [
    {
      "cell_type": "markdown",
      "metadata": {
        "id": "view-in-github",
        "colab_type": "text"
      },
      "source": [
        "<a href=\"https://colab.research.google.com/github/firdausdicko97/skripsi/blob/main/Skripsi_LSTM_Fix_rapih.ipynb\" target=\"_parent\"><img src=\"https://colab.research.google.com/assets/colab-badge.svg\" alt=\"Open In Colab\"/></a>"
      ]
    },
    {
      "cell_type": "code",
      "metadata": {
        "colab": {
          "base_uri": "https://localhost:8080/"
        },
        "id": "oArPC9VcTCHL",
        "outputId": "c7b3ca8c-1323-445f-c98c-97fdbd291505"
      },
      "source": [
        "pip install Sastrawi"
      ],
      "execution_count": null,
      "outputs": [
        {
          "output_type": "stream",
          "name": "stdout",
          "text": [
            "Collecting Sastrawi\n",
            "  Downloading Sastrawi-1.0.1-py2.py3-none-any.whl (209 kB)\n",
            "\u001b[?25l\r\u001b[K     |█▋                              | 10 kB 26.9 MB/s eta 0:00:01\r\u001b[K     |███▏                            | 20 kB 12.3 MB/s eta 0:00:01\r\u001b[K     |████▊                           | 30 kB 9.7 MB/s eta 0:00:01\r\u001b[K     |██████▎                         | 40 kB 8.5 MB/s eta 0:00:01\r\u001b[K     |███████▉                        | 51 kB 5.0 MB/s eta 0:00:01\r\u001b[K     |█████████▍                      | 61 kB 5.5 MB/s eta 0:00:01\r\u001b[K     |███████████                     | 71 kB 5.5 MB/s eta 0:00:01\r\u001b[K     |████████████▌                   | 81 kB 6.1 MB/s eta 0:00:01\r\u001b[K     |██████████████                  | 92 kB 4.7 MB/s eta 0:00:01\r\u001b[K     |███████████████▋                | 102 kB 5.1 MB/s eta 0:00:01\r\u001b[K     |█████████████████▏              | 112 kB 5.1 MB/s eta 0:00:01\r\u001b[K     |██████████████████▊             | 122 kB 5.1 MB/s eta 0:00:01\r\u001b[K     |████████████████████▎           | 133 kB 5.1 MB/s eta 0:00:01\r\u001b[K     |█████████████████████▉          | 143 kB 5.1 MB/s eta 0:00:01\r\u001b[K     |███████████████████████▍        | 153 kB 5.1 MB/s eta 0:00:01\r\u001b[K     |█████████████████████████       | 163 kB 5.1 MB/s eta 0:00:01\r\u001b[K     |██████████████████████████▋     | 174 kB 5.1 MB/s eta 0:00:01\r\u001b[K     |████████████████████████████▏   | 184 kB 5.1 MB/s eta 0:00:01\r\u001b[K     |█████████████████████████████▊  | 194 kB 5.1 MB/s eta 0:00:01\r\u001b[K     |███████████████████████████████▎| 204 kB 5.1 MB/s eta 0:00:01\r\u001b[K     |████████████████████████████████| 209 kB 5.1 MB/s \n",
            "\u001b[?25hInstalling collected packages: Sastrawi\n",
            "Successfully installed Sastrawi-1.0.1\n"
          ]
        }
      ]
    },
    {
      "cell_type": "code",
      "metadata": {
        "id": "yxbE8sEtJB4I"
      },
      "source": [
        "# Memanggil library yang dibutuhkan\n",
        " \n",
        "import numpy as np # library untuk proses perhitungan numerik penjumlahan, pengurangan, perkalian, dsb\n",
        "import pandas as pd # membersihkan data mentah ke dalam sebuah bentuk tabel\n",
        "import seaborn as sns # membuat grafik\n",
        "import matplotlib.pyplot as plt # visualisasi data\n",
        "import nltk # NLP\n",
        "import re #fungsi regex\n",
        "import Sastrawi #library bahasa\n",
        "# matplotlibinline untuk langsung cetak visualisasi\n",
        "%matplotlib inline "
      ],
      "execution_count": null,
      "outputs": []
    },
    {
      "cell_type": "code",
      "metadata": {
        "id": "vYjc_vJOJmN_",
        "colab": {
          "base_uri": "https://localhost:8080/",
          "height": 241
        },
        "outputId": "50cf2368-0ebb-4db7-d64d-a9438a7ea5c8"
      },
      "source": [
        "#Upload dataset dan melihat isinya\n",
        "df=pd.read_csv('/content/drive/MyDrive/SKRIPSI/dataset_efek_vaksin_0_1.csv')\n",
        "print('1 = positive \\n0 = negative')\n",
        "df.head()"
      ],
      "execution_count": null,
      "outputs": [
        {
          "output_type": "stream",
          "name": "stdout",
          "text": [
            "1 = positive \n",
            "0 = negative\n"
          ]
        },
        {
          "output_type": "execute_result",
          "data": {
            "text/html": [
              "\n",
              "  <div id=\"df-2618968f-b1b1-4f4c-a41a-df4ef8758c8a\">\n",
              "    <div class=\"colab-df-container\">\n",
              "      <div>\n",
              "<style scoped>\n",
              "    .dataframe tbody tr th:only-of-type {\n",
              "        vertical-align: middle;\n",
              "    }\n",
              "\n",
              "    .dataframe tbody tr th {\n",
              "        vertical-align: top;\n",
              "    }\n",
              "\n",
              "    .dataframe thead th {\n",
              "        text-align: right;\n",
              "    }\n",
              "</style>\n",
              "<table border=\"1\" class=\"dataframe\">\n",
              "  <thead>\n",
              "    <tr style=\"text-align: right;\">\n",
              "      <th></th>\n",
              "      <th>tweet</th>\n",
              "      <th>label</th>\n",
              "    </tr>\n",
              "  </thead>\n",
              "  <tbody>\n",
              "    <tr>\n",
              "      <th>0</th>\n",
              "      <td>@kemenkesri manfaat vaksin dalam penanganan co...</td>\n",
              "      <td>1</td>\n",
              "    </tr>\n",
              "    <tr>\n",
              "      <th>1</th>\n",
              "      <td>@bertanyarl vaksin bukan covid aja pegel nderr...</td>\n",
              "      <td>0</td>\n",
              "    </tr>\n",
              "    <tr>\n",
              "      <th>2</th>\n",
              "      <td>investasi efek samping vaksin covid-19 tak han...</td>\n",
              "      <td>0</td>\n",
              "    </tr>\n",
              "    <tr>\n",
              "      <th>3</th>\n",
              "      <td>manfaat vaksin dalam penanganan covid-19 lebih...</td>\n",
              "      <td>1</td>\n",
              "    </tr>\n",
              "    <tr>\n",
              "      <th>4</th>\n",
              "      <td>mama gue sakit abis vaksin covid padahal sebel...</td>\n",
              "      <td>0</td>\n",
              "    </tr>\n",
              "  </tbody>\n",
              "</table>\n",
              "</div>\n",
              "      <button class=\"colab-df-convert\" onclick=\"convertToInteractive('df-2618968f-b1b1-4f4c-a41a-df4ef8758c8a')\"\n",
              "              title=\"Convert this dataframe to an interactive table.\"\n",
              "              style=\"display:none;\">\n",
              "        \n",
              "  <svg xmlns=\"http://www.w3.org/2000/svg\" height=\"24px\"viewBox=\"0 0 24 24\"\n",
              "       width=\"24px\">\n",
              "    <path d=\"M0 0h24v24H0V0z\" fill=\"none\"/>\n",
              "    <path d=\"M18.56 5.44l.94 2.06.94-2.06 2.06-.94-2.06-.94-.94-2.06-.94 2.06-2.06.94zm-11 1L8.5 8.5l.94-2.06 2.06-.94-2.06-.94L8.5 2.5l-.94 2.06-2.06.94zm10 10l.94 2.06.94-2.06 2.06-.94-2.06-.94-.94-2.06-.94 2.06-2.06.94z\"/><path d=\"M17.41 7.96l-1.37-1.37c-.4-.4-.92-.59-1.43-.59-.52 0-1.04.2-1.43.59L10.3 9.45l-7.72 7.72c-.78.78-.78 2.05 0 2.83L4 21.41c.39.39.9.59 1.41.59.51 0 1.02-.2 1.41-.59l7.78-7.78 2.81-2.81c.8-.78.8-2.07 0-2.86zM5.41 20L4 18.59l7.72-7.72 1.47 1.35L5.41 20z\"/>\n",
              "  </svg>\n",
              "      </button>\n",
              "      \n",
              "  <style>\n",
              "    .colab-df-container {\n",
              "      display:flex;\n",
              "      flex-wrap:wrap;\n",
              "      gap: 12px;\n",
              "    }\n",
              "\n",
              "    .colab-df-convert {\n",
              "      background-color: #E8F0FE;\n",
              "      border: none;\n",
              "      border-radius: 50%;\n",
              "      cursor: pointer;\n",
              "      display: none;\n",
              "      fill: #1967D2;\n",
              "      height: 32px;\n",
              "      padding: 0 0 0 0;\n",
              "      width: 32px;\n",
              "    }\n",
              "\n",
              "    .colab-df-convert:hover {\n",
              "      background-color: #E2EBFA;\n",
              "      box-shadow: 0px 1px 2px rgba(60, 64, 67, 0.3), 0px 1px 3px 1px rgba(60, 64, 67, 0.15);\n",
              "      fill: #174EA6;\n",
              "    }\n",
              "\n",
              "    [theme=dark] .colab-df-convert {\n",
              "      background-color: #3B4455;\n",
              "      fill: #D2E3FC;\n",
              "    }\n",
              "\n",
              "    [theme=dark] .colab-df-convert:hover {\n",
              "      background-color: #434B5C;\n",
              "      box-shadow: 0px 1px 3px 1px rgba(0, 0, 0, 0.15);\n",
              "      filter: drop-shadow(0px 1px 2px rgba(0, 0, 0, 0.3));\n",
              "      fill: #FFFFFF;\n",
              "    }\n",
              "  </style>\n",
              "\n",
              "      <script>\n",
              "        const buttonEl =\n",
              "          document.querySelector('#df-2618968f-b1b1-4f4c-a41a-df4ef8758c8a button.colab-df-convert');\n",
              "        buttonEl.style.display =\n",
              "          google.colab.kernel.accessAllowed ? 'block' : 'none';\n",
              "\n",
              "        async function convertToInteractive(key) {\n",
              "          const element = document.querySelector('#df-2618968f-b1b1-4f4c-a41a-df4ef8758c8a');\n",
              "          const dataTable =\n",
              "            await google.colab.kernel.invokeFunction('convertToInteractive',\n",
              "                                                     [key], {});\n",
              "          if (!dataTable) return;\n",
              "\n",
              "          const docLinkHtml = 'Like what you see? Visit the ' +\n",
              "            '<a target=\"_blank\" href=https://colab.research.google.com/notebooks/data_table.ipynb>data table notebook</a>'\n",
              "            + ' to learn more about interactive tables.';\n",
              "          element.innerHTML = '';\n",
              "          dataTable['output_type'] = 'display_data';\n",
              "          await google.colab.output.renderOutput(dataTable, element);\n",
              "          const docLink = document.createElement('div');\n",
              "          docLink.innerHTML = docLinkHtml;\n",
              "          element.appendChild(docLink);\n",
              "        }\n",
              "      </script>\n",
              "    </div>\n",
              "  </div>\n",
              "  "
            ],
            "text/plain": [
              "                                               tweet  label\n",
              "0  @kemenkesri manfaat vaksin dalam penanganan co...      1\n",
              "1  @bertanyarl vaksin bukan covid aja pegel nderr...      0\n",
              "2  investasi efek samping vaksin covid-19 tak han...      0\n",
              "3  manfaat vaksin dalam penanganan covid-19 lebih...      1\n",
              "4  mama gue sakit abis vaksin covid padahal sebel...      0"
            ]
          },
          "metadata": {},
          "execution_count": 3
        }
      ]
    },
    {
      "cell_type": "code",
      "metadata": {
        "id": "3KCjRXCujGyM",
        "colab": {
          "base_uri": "https://localhost:8080/",
          "height": 373
        },
        "outputId": "4a26cd1b-2ee4-49d1-ed49-586411134f55"
      },
      "source": [
        "#Membuat grafik\n",
        "df['label'].value_counts().plot.pie(figsize=(6,6),title=\"Distribution of tweets per sentiment\",labels=['',''],autopct='%1.1f%%')\n",
        "labels=[\"Positive\",\"Negative\"]\n",
        "plt.legend(labels,loc=3)\n",
        "plt.gca().set_aspect('equal')"
      ],
      "execution_count": null,
      "outputs": [
        {
          "output_type": "display_data",
          "data": {
            "image/png": "[encoded data removed]",
            "text/plain": [
              "<Figure size 432x432 with 1 Axes>"
            ]
          },
          "metadata": {}
        }
      ]
    },
    {
      "cell_type": "code",
      "metadata": {
        "id": "7_xz_EFeRmCj"
      },
      "source": [
        "#import Stopwords\n",
        "from Sastrawi.StopWordRemover.StopWordRemoverFactory import StopWordRemoverFactory, StopWordRemover as swr, ArrayDictionary\n",
        "#import Sastrawi Stemmer\n",
        "from Sastrawi.Stemmer.StemmerFactory import StemmerFactory\n",
        "#Import Function Tokenizer\n",
        "from nltk.tokenize import TweetTokenizer\n",
        "\n",
        "\n",
        "stop_factory = StopWordRemoverFactory()\n",
        "stopwords_id = stop_factory.get_stop_words()\n",
        "more_stopword = ['yang', 'yg', 'untuk', 'pada', 'pd', 'ke', 'para', 'namun', 'menurut', 'antara', 'dia',\n",
        "                 'dua', 'ia', 'seperti', 'jika', 'sehingga', 'kembali', 'dan', 'tidak', 'ini', 'karena', 'kepada',\n",
        "                 'kpd', 'oleh', 'saat', 'harus', 'sementara', 'setelah', 'belum', 'belom', 'blm', 'kami', 'sekitar', 'bagi',\n",
        "                 'serta', 'di', 'dari', 'telah', 'sebagai', 'masih', 'hal', 'ketika', 'adalah', 'itu', 'dalam', 'dlm', 'bisa',\n",
        "                 'bahwa', 'atau', 'hanya', 'kita', 'dengan', 'dgn', 'akan', 'juga', 'ada', 'mereka', 'sudah', 'saya', 'terhadap',\n",
        "                 'secara', 'agar', 'lain', 'anda', 'begitu', 'mengapa', 'kenapa', 'knp', 'yaitu', 'yakni', 'daripada', 'itulah',\n",
        "                 'lagi', 'lg', 'maka', 'tentang', 'ttg', 'demi', 'dimana', 'dmn', 'kemana', 'kmn', 'pula', 'sambil', 'sebelum',\n",
        "                 'sblm', 'sesudah', 'supaya', 'guna', 'kah', 'pun', 'sampai', 'sedangkan', 'selagi', 'sementara', 'tetapi',\n",
        "                 'apakah', 'apa', 'kecuali', 'sebab', 'selain', 'seolah', 'seraya', 'seterusnya', 'tanpa', 'agak', 'boleh',\n",
        "                 'dapat', 'dpt', 'dsb', 'dst', 'dll', 'dahulu', 'dulunya', 'anu', 'demikian', 'tapi', 'tp', 'ingin', 'juga',\n",
        "                 'jg', 'nggak', 'mari', 'nanti', 'melainkan', 'oh', 'ok', 'seharusnya', 'sebetulnya', 'setiap', 'setidaknya',\n",
        "                 'sesuatu', 'pasti', 'saja', 'aja', 'toh', 'ya', 'walau', 'tolong', 'tentu', 'amat', 'apalagi', 'bagaimanapun',\n",
        "                 'noh', 'kan', 'kok', 'klo', 'kalo','krn','gua','gue','gw','lw','amp']\n",
        " \n",
        "data_stopword = stopwords_id + more_stopword\n",
        "dictionary = ArrayDictionary(data_stopword)\n",
        "stop = swr(dictionary)\n",
        " \n",
        "factory = StemmerFactory()\n",
        "stemmer = factory.create_stemmer()"
      ],
      "execution_count": null,
      "outputs": []
    },
    {
      "cell_type": "code",
      "metadata": {
        "id": "r0qBSTejODXU"
      },
      "source": [
        "#Case Folding\n",
        "df['hasil_case_folding']= df.apply(lambda row: str.lower(row['tweet']), axis =1)\n",
        "df = df[[\"tweet\", \"hasil_case_folding\", \"label\"]] #Mengurutkan kolom pada tabel\n",
        "df = df.drop('tweet', axis=1) #Menghapus kolom yang tidak perlu\n",
        "df = df.rename(columns={'hasil_case_folding': 'tweet'})\n",
        " \n",
        "#Tokenize\n",
        "def clean(teks):\n",
        "    teks = re.sub(r\"https?\\://\\S+\", \"\", teks) #Menghapus link https\n",
        "    teks = re.sub(r\"[@][\\w_-]+\", \"\", teks) #Menghapus mention\n",
        "    teks = re.sub(r\"[#][\\w_-]+\", \"\", teks) #Menghapus hashtag\n",
        "    teks = re.sub(r\"[^\\w\\s]\", \" \", teks) #Menghapus tanda baca\n",
        "    teks = re.sub(r\"\\d+\",\" \",teks) #Menghapus angka\n",
        "    teks = re.sub(r\" +\", \" \",teks) #Menghapus spasi ganda\n",
        "    teks = re.sub(r\"^\\s+\",\"\",teks) #Menghapus spasi di awal kalimat\n",
        "    teks = re.sub(r\"\\s+$\",\"\",teks) #Menghapu spasi di akhir kalimat\n",
        "    tokenizer = TweetTokenizer(preserve_case=False, strip_handles=True, reduce_len=True)\n",
        "    tweet_tokens = tokenizer.tokenize(teks)\n",
        " \n",
        "#filtering (remove stop word)\n",
        "    teks = stop.remove(teks)\n",
        "    teks = stop.remove(teks)\n",
        " \n",
        "#Stemming\n",
        "    clean_text = []    \n",
        "    for word in tweet_tokens:\n",
        "        stem_word = stemmer.stem(word) \n",
        "        clean_text.append(stem_word)\n",
        "    \n",
        "    return clean_text"
      ],
      "execution_count": null,
      "outputs": []
    },
    {
      "cell_type": "code",
      "metadata": {
        "id": "0Mh7U4VbTFn6"
      },
      "source": [
        "df=df.head(745)\n",
        "df['tokenized_text']=df['tweet'].map(clean)\n",
        "df['clean_text']=df['tokenized_text'].apply(lambda x: \" \".join([str(word) for word in x]))"
      ],
      "execution_count": null,
      "outputs": []
    },
    {
      "cell_type": "code",
      "metadata": {
        "id": "tBwJ4cJNTGXy"
      },
      "source": [
        "df.to_csv(r'/content/drive/MyDrive/SKRIPSI/dataset_bersih_rapih.csv', index=False)#Menyimpan hasil stopword"
      ],
      "execution_count": null,
      "outputs": []
    },
    {
      "cell_type": "code",
      "metadata": {
        "id": "wQOawaBZTJmb",
        "colab": {
          "base_uri": "https://localhost:8080/",
          "height": 206
        },
        "outputId": "b6aa3f7c-88a9-4868-839e-a0fb26d70a06"
      },
      "source": [
        "df.head()"
      ],
      "execution_count": null,
      "outputs": [
        {
          "output_type": "execute_result",
          "data": {
            "text/html": [
              "\n",
              "  <div id=\"df-ad229e0a-286d-4483-a496-4485cdd7b9d3\">\n",
              "    <div class=\"colab-df-container\">\n",
              "      <div>\n",
              "<style scoped>\n",
              "    .dataframe tbody tr th:only-of-type {\n",
              "        vertical-align: middle;\n",
              "    }\n",
              "\n",
              "    .dataframe tbody tr th {\n",
              "        vertical-align: top;\n",
              "    }\n",
              "\n",
              "    .dataframe thead th {\n",
              "        text-align: right;\n",
              "    }\n",
              "</style>\n",
              "<table border=\"1\" class=\"dataframe\">\n",
              "  <thead>\n",
              "    <tr style=\"text-align: right;\">\n",
              "      <th></th>\n",
              "      <th>tweet</th>\n",
              "      <th>label</th>\n",
              "      <th>tokenized_text</th>\n",
              "      <th>clean_text</th>\n",
              "    </tr>\n",
              "  </thead>\n",
              "  <tbody>\n",
              "    <tr>\n",
              "      <th>0</th>\n",
              "      <td>@kemenkesri manfaat vaksin dalam penanganan co...</td>\n",
              "      <td>1</td>\n",
              "      <td>[manfaat, vaksin, dalam, tangan, covid, lebih,...</td>\n",
              "      <td>manfaat vaksin dalam tangan covid lebih besar ...</td>\n",
              "    </tr>\n",
              "    <tr>\n",
              "      <th>1</th>\n",
              "      <td>@bertanyarl vaksin bukan covid aja pegel nderr...</td>\n",
              "      <td>0</td>\n",
              "      <td>[vaksin, bukan, covid, aja, gel, nderr, sama, ...</td>\n",
              "      <td>vaksin bukan covid aja gel nderr sama aja itu ...</td>\n",
              "    </tr>\n",
              "    <tr>\n",
              "      <th>2</th>\n",
              "      <td>investasi efek samping vaksin covid-19 tak han...</td>\n",
              "      <td>0</td>\n",
              "      <td>[investasi, efek, samping, vaksin, covid, tak,...</td>\n",
              "      <td>investasi efek samping vaksin covid tak hanya ...</td>\n",
              "    </tr>\n",
              "    <tr>\n",
              "      <th>3</th>\n",
              "      <td>manfaat vaksin dalam penanganan covid-19 lebih...</td>\n",
              "      <td>1</td>\n",
              "      <td>[manfaat, vaksin, dalam, tangan, covid, lebih,...</td>\n",
              "      <td>manfaat vaksin dalam tangan covid lebih besar ...</td>\n",
              "    </tr>\n",
              "    <tr>\n",
              "      <th>4</th>\n",
              "      <td>mama gue sakit abis vaksin covid padahal sebel...</td>\n",
              "      <td>0</td>\n",
              "      <td>[mama, gue, sakit, abis, vaksin, covid, padaha...</td>\n",
              "      <td>mama gue sakit abis vaksin covid padahal belum...</td>\n",
              "    </tr>\n",
              "  </tbody>\n",
              "</table>\n",
              "</div>\n",
              "      <button class=\"colab-df-convert\" onclick=\"convertToInteractive('df-ad229e0a-286d-4483-a496-4485cdd7b9d3')\"\n",
              "              title=\"Convert this dataframe to an interactive table.\"\n",
              "              style=\"display:none;\">\n",
              "        \n",
              "  <svg xmlns=\"http://www.w3.org/2000/svg\" height=\"24px\"viewBox=\"0 0 24 24\"\n",
              "       width=\"24px\">\n",
              "    <path d=\"M0 0h24v24H0V0z\" fill=\"none\"/>\n",
              "    <path d=\"M18.56 5.44l.94 2.06.94-2.06 2.06-.94-2.06-.94-.94-2.06-.94 2.06-2.06.94zm-11 1L8.5 8.5l.94-2.06 2.06-.94-2.06-.94L8.5 2.5l-.94 2.06-2.06.94zm10 10l.94 2.06.94-2.06 2.06-.94-2.06-.94-.94-2.06-.94 2.06-2.06.94z\"/><path d=\"M17.41 7.96l-1.37-1.37c-.4-.4-.92-.59-1.43-.59-.52 0-1.04.2-1.43.59L10.3 9.45l-7.72 7.72c-.78.78-.78 2.05 0 2.83L4 21.41c.39.39.9.59 1.41.59.51 0 1.02-.2 1.41-.59l7.78-7.78 2.81-2.81c.8-.78.8-2.07 0-2.86zM5.41 20L4 18.59l7.72-7.72 1.47 1.35L5.41 20z\"/>\n",
              "  </svg>\n",
              "      </button>\n",
              "      \n",
              "  <style>\n",
              "    .colab-df-container {\n",
              "      display:flex;\n",
              "      flex-wrap:wrap;\n",
              "      gap: 12px;\n",
              "    }\n",
              "\n",
              "    .colab-df-convert {\n",
              "      background-color: #E8F0FE;\n",
              "      border: none;\n",
              "      border-radius: 50%;\n",
              "      cursor: pointer;\n",
              "      display: none;\n",
              "      fill: #1967D2;\n",
              "      height: 32px;\n",
              "      padding: 0 0 0 0;\n",
              "      width: 32px;\n",
              "    }\n",
              "\n",
              "    .colab-df-convert:hover {\n",
              "      background-color: #E2EBFA;\n",
              "      box-shadow: 0px 1px 2px rgba(60, 64, 67, 0.3), 0px 1px 3px 1px rgba(60, 64, 67, 0.15);\n",
              "      fill: #174EA6;\n",
              "    }\n",
              "\n",
              "    [theme=dark] .colab-df-convert {\n",
              "      background-color: #3B4455;\n",
              "      fill: #D2E3FC;\n",
              "    }\n",
              "\n",
              "    [theme=dark] .colab-df-convert:hover {\n",
              "      background-color: #434B5C;\n",
              "      box-shadow: 0px 1px 3px 1px rgba(0, 0, 0, 0.15);\n",
              "      filter: drop-shadow(0px 1px 2px rgba(0, 0, 0, 0.3));\n",
              "      fill: #FFFFFF;\n",
              "    }\n",
              "  </style>\n",
              "\n",
              "      <script>\n",
              "        const buttonEl =\n",
              "          document.querySelector('#df-ad229e0a-286d-4483-a496-4485cdd7b9d3 button.colab-df-convert');\n",
              "        buttonEl.style.display =\n",
              "          google.colab.kernel.accessAllowed ? 'block' : 'none';\n",
              "\n",
              "        async function convertToInteractive(key) {\n",
              "          const element = document.querySelector('#df-ad229e0a-286d-4483-a496-4485cdd7b9d3');\n",
              "          const dataTable =\n",
              "            await google.colab.kernel.invokeFunction('convertToInteractive',\n",
              "                                                     [key], {});\n",
              "          if (!dataTable) return;\n",
              "\n",
              "          const docLinkHtml = 'Like what you see? Visit the ' +\n",
              "            '<a target=\"_blank\" href=https://colab.research.google.com/notebooks/data_table.ipynb>data table notebook</a>'\n",
              "            + ' to learn more about interactive tables.';\n",
              "          element.innerHTML = '';\n",
              "          dataTable['output_type'] = 'display_data';\n",
              "          await google.colab.output.renderOutput(dataTable, element);\n",
              "          const docLink = document.createElement('div');\n",
              "          docLink.innerHTML = docLinkHtml;\n",
              "          element.appendChild(docLink);\n",
              "        }\n",
              "      </script>\n",
              "    </div>\n",
              "  </div>\n",
              "  "
            ],
            "text/plain": [
              "                                               tweet  ...                                         clean_text\n",
              "0  @kemenkesri manfaat vaksin dalam penanganan co...  ...  manfaat vaksin dalam tangan covid lebih besar ...\n",
              "1  @bertanyarl vaksin bukan covid aja pegel nderr...  ...  vaksin bukan covid aja gel nderr sama aja itu ...\n",
              "2  investasi efek samping vaksin covid-19 tak han...  ...  investasi efek samping vaksin covid tak hanya ...\n",
              "3  manfaat vaksin dalam penanganan covid-19 lebih...  ...  manfaat vaksin dalam tangan covid lebih besar ...\n",
              "4  mama gue sakit abis vaksin covid padahal sebel...  ...  mama gue sakit abis vaksin covid padahal belum...\n",
              "\n",
              "[5 rows x 4 columns]"
            ]
          },
          "metadata": {},
          "execution_count": 9
        }
      ]
    },
    {
      "cell_type": "code",
      "metadata": {
        "id": "28L-pb_4ztRT",
        "colab": {
          "base_uri": "https://localhost:8080/"
        },
        "outputId": "cc063ebf-62c0-4e5f-a1df-093e47e45983"
      },
      "source": [
        "from keras.models import Sequential\n",
        "from keras.layers import Dense\n",
        "from keras.layers import LSTM\n",
        "from keras.layers import SpatialDropout1D\n",
        "from keras.layers.embeddings import Embedding\n",
        "from keras.preprocessing import sequence\n",
        "from keras.preprocessing.text import Tokenizer\n",
        "from keras.preprocessing.sequence import pad_sequences\n",
        "\n",
        "max_review_length = 250\n",
        " \n",
        "tokenizer = Tokenizer(num_words=10000, #max no. of unique words to keep\n",
        "#                      # filters='!\"#$%&()*+,-./:;<=>?@[\\]^_`{|}~', \n",
        "                      lower=False #convert to lower case\n",
        "                     )\n",
        "tokenizer.fit_on_texts(df['tokenized_text'])\n",
        "word_index = tokenizer.word_index\n",
        "print(\"found %s unique token. \" %len(word_index))"
      ],
      "execution_count": null,
      "outputs": [
        {
          "output_type": "stream",
          "name": "stdout",
          "text": [
            "found 2353 unique token. \n"
          ]
        }
      ]
    },
    {
      "cell_type": "code",
      "metadata": {
        "id": "WS-bPxCMUYYK"
      },
      "source": [
        "#mengubah variabel kategorial menjadi numerik\n",
        "Y=pd.get_dummies(df['label']).values\n",
        "\n",
        "#berfungsi untuk mengubah text menjadi urutan integer lalu jadi list array\n",
        "X = tokenizer.texts_to_sequences(df['tokenized_text'].values)\n",
        "X = sequence.pad_sequences(X, maxlen= max_review_length)"
      ],
      "execution_count": null,
      "outputs": []
    },
    {
      "cell_type": "code",
      "metadata": {
        "colab": {
          "base_uri": "https://localhost:8080/"
        },
        "id": "yp7ejJkq8xln",
        "outputId": "d72b6dd8-6906-4969-e539-aa730c36812f"
      },
      "source": [
        "print(X.shape)"
      ],
      "execution_count": null,
      "outputs": [
        {
          "output_type": "stream",
          "name": "stdout",
          "text": [
            "(745, 250)\n"
          ]
        }
      ]
    },
    {
      "cell_type": "code",
      "metadata": {
        "id": "ppuDARUlUmcB",
        "colab": {
          "base_uri": "https://localhost:8080/"
        },
        "outputId": "693c4b1f-0550-4af5-f381-5dff071740c8"
      },
      "source": [
        "#Membagi data train dan data test\n",
        "from sklearn.model_selection import train_test_split\n",
        " \n",
        "X_train, X_test, y_train, y_test = train_test_split(X,Y,test_size = 0.2, random_state = 42, shuffle = True, stratify = Y)\n",
        "print(\"Hasil pembagian data:\\n- Train: {} \\n- Test: {}\".format(len(y_train),len(y_test)))"
      ],
      "execution_count": null,
      "outputs": [
        {
          "output_type": "stream",
          "name": "stdout",
          "text": [
            "Hasil pembagian data:\n",
            "- Train: 596 \n",
            "- Test: 149\n"
          ]
        }
      ]
    },
    {
      "cell_type": "code",
      "metadata": {
        "id": "8s43FMn8Uy1B",
        "colab": {
          "base_uri": "https://localhost:8080/"
        },
        "outputId": "bd565ee4-301c-4492-ade2-ef5347d3bc14"
      },
      "source": [
        "#Merancang model LSTM\n",
        "EMBEDDING_VEC = 100\n",
        "model = Sequential()\n",
        "model.add(Embedding(2500, EMBEDDING_VEC, input_length=X.shape[1]))\n",
        "model.add(SpatialDropout1D(0.2)) #mengubah input unit secara acak menjadi 0\n",
        "model.add(LSTM(64, dropout=0.2,recurrent_dropout=0.2))\n",
        "model.add(Dense(2, activation='softmax')) #mengubah vektor angka menjadi vektor probabilitas\n",
        "model.compile(loss='categorical_crossentropy', optimizer='adam', metrics=['accuracy']) #fungsi untuk kalkulasi prediksi\n",
        "print(model.summary())"
      ],
      "execution_count": null,
      "outputs": [
        {
          "output_type": "stream",
          "name": "stdout",
          "text": [
            "Model: \"sequential\"\n",
            "_________________________________________________________________\n",
            " Layer (type)                Output Shape              Param #   \n",
            "=================================================================\n",
            " embedding (Embedding)       (None, 250, 100)          250000    \n",
            "                                                                 \n",
            " spatial_dropout1d (SpatialD  (None, 250, 100)         0         \n",
            " ropout1D)                                                       \n",
            "                                                                 \n",
            " lstm (LSTM)                 (None, 64)                42240     \n",
            "                                                                 \n",
            " dense (Dense)               (None, 2)                 130       \n",
            "                                                                 \n",
            "=================================================================\n",
            "Total params: 292,370\n",
            "Trainable params: 292,370\n",
            "Non-trainable params: 0\n",
            "_________________________________________________________________\n",
            "None\n"
          ]
        }
      ]
    },
    {
      "cell_type": "code",
      "metadata": {
        "id": "LZL93-5SVYcB",
        "colab": {
          "base_uri": "https://localhost:8080/"
        },
        "outputId": "018db5ad-2e8a-4a47-aced-3220ca6d9eee"
      },
      "source": [
        "hist = model.fit(X_train, y_train, \n",
        "          epochs=50, \n",
        "          batch_size= 250,\n",
        "          validation_data=(X_test,y_test))"
      ],
      "execution_count": null,
      "outputs": [
        {
          "output_type": "stream",
          "name": "stdout",
          "text": [
            "Epoch 1/50\n",
            "3/3 [==============================] - 8s 1s/step - loss: 0.6878 - accuracy: 0.6359 - val_loss: 0.6652 - val_accuracy: 0.7987\n",
            "Epoch 2/50\n",
            "3/3 [==============================] - 3s 1s/step - loss: 0.6557 - accuracy: 0.8020 - val_loss: 0.6233 - val_accuracy: 0.7987\n",
            "Epoch 3/50\n",
            "3/3 [==============================] - 3s 1s/step - loss: 0.6071 - accuracy: 0.8020 - val_loss: 0.5481 - val_accuracy: 0.7987\n",
            "Epoch 4/50\n",
            "3/3 [==============================] - 3s 1s/step - loss: 0.5214 - accuracy: 0.8020 - val_loss: 0.4839 - val_accuracy: 0.7987\n",
            "Epoch 5/50\n",
            "3/3 [==============================] - 3s 1s/step - loss: 0.4858 - accuracy: 0.8020 - val_loss: 0.4911 - val_accuracy: 0.7987\n",
            "Epoch 6/50\n",
            "3/3 [==============================] - 3s 1s/step - loss: 0.4753 - accuracy: 0.8020 - val_loss: 0.4720 - val_accuracy: 0.7987\n",
            "Epoch 7/50\n",
            "3/3 [==============================] - 3s 1s/step - loss: 0.4563 - accuracy: 0.8020 - val_loss: 0.4694 - val_accuracy: 0.7987\n",
            "Epoch 8/50\n",
            "3/3 [==============================] - 3s 1s/step - loss: 0.4458 - accuracy: 0.8020 - val_loss: 0.4639 - val_accuracy: 0.7987\n",
            "Epoch 9/50\n",
            "3/3 [==============================] - 3s 1s/step - loss: 0.4305 - accuracy: 0.8020 - val_loss: 0.4567 - val_accuracy: 0.7987\n",
            "Epoch 10/50\n",
            "3/3 [==============================] - 3s 1s/step - loss: 0.4098 - accuracy: 0.8020 - val_loss: 0.4487 - val_accuracy: 0.7987\n",
            "Epoch 11/50\n",
            "3/3 [==============================] - 3s 1s/step - loss: 0.3883 - accuracy: 0.8054 - val_loss: 0.4425 - val_accuracy: 0.7987\n",
            "Epoch 12/50\n",
            "3/3 [==============================] - 3s 1s/step - loss: 0.3624 - accuracy: 0.8070 - val_loss: 0.4350 - val_accuracy: 0.8121\n",
            "Epoch 13/50\n",
            "3/3 [==============================] - 3s 1s/step - loss: 0.3301 - accuracy: 0.8154 - val_loss: 0.4267 - val_accuracy: 0.8188\n",
            "Epoch 14/50\n",
            "3/3 [==============================] - 3s 1s/step - loss: 0.2929 - accuracy: 0.8456 - val_loss: 0.4260 - val_accuracy: 0.8188\n",
            "Epoch 15/50\n",
            "3/3 [==============================] - 3s 1s/step - loss: 0.2507 - accuracy: 0.8758 - val_loss: 0.4391 - val_accuracy: 0.8188\n",
            "Epoch 16/50\n",
            "3/3 [==============================] - 3s 1s/step - loss: 0.2107 - accuracy: 0.9044 - val_loss: 0.4586 - val_accuracy: 0.8121\n",
            "Epoch 17/50\n",
            "3/3 [==============================] - 3s 1s/step - loss: 0.1710 - accuracy: 0.9513 - val_loss: 0.5214 - val_accuracy: 0.7987\n",
            "Epoch 18/50\n",
            "3/3 [==============================] - 3s 1s/step - loss: 0.1519 - accuracy: 0.9631 - val_loss: 0.5838 - val_accuracy: 0.8054\n",
            "Epoch 19/50\n",
            "3/3 [==============================] - 3s 1s/step - loss: 0.1406 - accuracy: 0.9631 - val_loss: 0.4557 - val_accuracy: 0.7987\n",
            "Epoch 20/50\n",
            "3/3 [==============================] - 3s 1s/step - loss: 0.1278 - accuracy: 0.9832 - val_loss: 0.4549 - val_accuracy: 0.7919\n",
            "Epoch 21/50\n",
            "3/3 [==============================] - 3s 1s/step - loss: 0.1030 - accuracy: 0.9849 - val_loss: 0.5050 - val_accuracy: 0.7852\n",
            "Epoch 22/50\n",
            "3/3 [==============================] - 3s 1s/step - loss: 0.0808 - accuracy: 0.9832 - val_loss: 0.6082 - val_accuracy: 0.7987\n",
            "Epoch 23/50\n",
            "3/3 [==============================] - 3s 1s/step - loss: 0.0734 - accuracy: 0.9782 - val_loss: 0.6420 - val_accuracy: 0.7987\n",
            "Epoch 24/50\n",
            "3/3 [==============================] - 3s 1s/step - loss: 0.0617 - accuracy: 0.9782 - val_loss: 0.6177 - val_accuracy: 0.7987\n",
            "Epoch 25/50\n",
            "3/3 [==============================] - 3s 1s/step - loss: 0.0513 - accuracy: 0.9899 - val_loss: 0.6105 - val_accuracy: 0.7785\n",
            "Epoch 26/50\n",
            "3/3 [==============================] - 3s 1s/step - loss: 0.0452 - accuracy: 0.9899 - val_loss: 0.6477 - val_accuracy: 0.7852\n",
            "Epoch 27/50\n",
            "3/3 [==============================] - 3s 1s/step - loss: 0.0379 - accuracy: 0.9933 - val_loss: 0.7073 - val_accuracy: 0.7919\n",
            "Epoch 28/50\n",
            "3/3 [==============================] - 3s 1s/step - loss: 0.0366 - accuracy: 0.9916 - val_loss: 0.7551 - val_accuracy: 0.7919\n",
            "Epoch 29/50\n",
            "3/3 [==============================] - 3s 1s/step - loss: 0.0283 - accuracy: 0.9950 - val_loss: 0.7948 - val_accuracy: 0.8054\n",
            "Epoch 30/50\n",
            "3/3 [==============================] - 3s 1s/step - loss: 0.0234 - accuracy: 0.9983 - val_loss: 0.8574 - val_accuracy: 0.8121\n",
            "Epoch 31/50\n",
            "3/3 [==============================] - 3s 1s/step - loss: 0.0208 - accuracy: 0.9983 - val_loss: 0.8946 - val_accuracy: 0.8054\n",
            "Epoch 32/50\n",
            "3/3 [==============================] - 3s 1s/step - loss: 0.0235 - accuracy: 0.9933 - val_loss: 0.8790 - val_accuracy: 0.8121\n",
            "Epoch 33/50\n",
            "3/3 [==============================] - 3s 1s/step - loss: 0.0197 - accuracy: 0.9950 - val_loss: 0.8356 - val_accuracy: 0.8054\n",
            "Epoch 34/50\n",
            "3/3 [==============================] - 3s 1s/step - loss: 0.0217 - accuracy: 0.9966 - val_loss: 0.8229 - val_accuracy: 0.7919\n",
            "Epoch 35/50\n",
            "3/3 [==============================] - 3s 1s/step - loss: 0.0169 - accuracy: 0.9983 - val_loss: 0.8139 - val_accuracy: 0.7987\n",
            "Epoch 36/50\n",
            "3/3 [==============================] - 3s 1s/step - loss: 0.0147 - accuracy: 0.9983 - val_loss: 0.8164 - val_accuracy: 0.7987\n",
            "Epoch 37/50\n",
            "3/3 [==============================] - 3s 1s/step - loss: 0.0126 - accuracy: 0.9983 - val_loss: 0.8253 - val_accuracy: 0.7919\n",
            "Epoch 38/50\n",
            "3/3 [==============================] - 3s 1s/step - loss: 0.0115 - accuracy: 0.9983 - val_loss: 0.8353 - val_accuracy: 0.7852\n",
            "Epoch 39/50\n",
            "3/3 [==============================] - 3s 1s/step - loss: 0.0125 - accuracy: 0.9950 - val_loss: 0.8418 - val_accuracy: 0.7919\n",
            "Epoch 40/50\n",
            "3/3 [==============================] - 3s 1s/step - loss: 0.0106 - accuracy: 0.9983 - val_loss: 0.8520 - val_accuracy: 0.7919\n",
            "Epoch 41/50\n",
            "3/3 [==============================] - 3s 1s/step - loss: 0.0132 - accuracy: 0.9950 - val_loss: 0.8557 - val_accuracy: 0.7919\n",
            "Epoch 42/50\n",
            "3/3 [==============================] - 3s 1s/step - loss: 0.0090 - accuracy: 0.9983 - val_loss: 0.8696 - val_accuracy: 0.7852\n",
            "Epoch 43/50\n",
            "3/3 [==============================] - 3s 1s/step - loss: 0.0105 - accuracy: 0.9966 - val_loss: 0.8865 - val_accuracy: 0.7852\n",
            "Epoch 44/50\n",
            "3/3 [==============================] - 3s 1s/step - loss: 0.0077 - accuracy: 1.0000 - val_loss: 0.9048 - val_accuracy: 0.7718\n",
            "Epoch 45/50\n",
            "3/3 [==============================] - 3s 1s/step - loss: 0.0080 - accuracy: 0.9983 - val_loss: 0.9266 - val_accuracy: 0.7785\n",
            "Epoch 46/50\n",
            "3/3 [==============================] - 3s 1s/step - loss: 0.0078 - accuracy: 0.9983 - val_loss: 0.9494 - val_accuracy: 0.7718\n",
            "Epoch 47/50\n",
            "3/3 [==============================] - 3s 1s/step - loss: 0.0076 - accuracy: 0.9983 - val_loss: 0.9667 - val_accuracy: 0.7718\n",
            "Epoch 48/50\n",
            "3/3 [==============================] - 3s 1s/step - loss: 0.0075 - accuracy: 0.9983 - val_loss: 0.9795 - val_accuracy: 0.7718\n",
            "Epoch 49/50\n",
            "3/3 [==============================] - 3s 1s/step - loss: 0.0073 - accuracy: 0.9983 - val_loss: 0.9882 - val_accuracy: 0.7651\n",
            "Epoch 50/50\n",
            "3/3 [==============================] - 3s 1s/step - loss: 0.0056 - accuracy: 1.0000 - val_loss: 1.0029 - val_accuracy: 0.7651\n"
          ]
        }
      ]
    },
    {
      "cell_type": "code",
      "metadata": {
        "id": "EKfR8FZg5Qn8",
        "colab": {
          "base_uri": "https://localhost:8080/",
          "height": 548
        },
        "outputId": "239d0d9c-955f-4463-eba2-b38e6ac40ab0"
      },
      "source": [
        "score = model.evaluate(X_train, y_train)\n",
        "print(\"Accuracy: \", score[1]*100, \"%\")\n",
        "plt.plot(hist.history['accuracy'])\n",
        "plt.plot(hist.history['val_accuracy'])\n",
        "plt.legend(['Acc', 'Val_acc'])\n",
        "plt.show()\n",
        " \n",
        "plt.plot(hist.history['loss'])\n",
        "plt.plot(hist.history['val_loss'])\n",
        "plt.legend(['Loss', 'Val_loss'])\n",
        "plt.show()"
      ],
      "execution_count": null,
      "outputs": [
        {
          "output_type": "stream",
          "name": "stdout",
          "text": [
            "19/19 [==============================] - 1s 48ms/step - loss: 0.0052 - accuracy: 1.0000\n",
            "Accuracy:  100.0 %\n"
          ]
        },
        {
          "output_type": "display_data",
          "data": {
            "image/png": "[encoded data removed]",
            "text/plain": [
              "<Figure size 432x288 with 1 Axes>"
            ]
          },
          "metadata": {
            "needs_background": "light"
          }
        },
        {
          "output_type": "display_data",
          "data": {
            "image/png": "[encoded data removed]",
            "text/plain": [
              "<Figure size 432x288 with 1 Axes>"
            ]
          },
          "metadata": {
            "needs_background": "light"
          }
        }
      ]
    },
    {
      "cell_type": "code",
      "metadata": {
        "id": "Gb5CPG1TCFJ4",
        "colab": {
          "base_uri": "https://localhost:8080/",
          "height": 484
        },
        "outputId": "aabb7080-8ceb-4c8e-d62c-cfccfdecd9c2"
      },
      "source": [
        "import seaborn as sn\n",
        "import sklearn.metrics as metrics\n",
        "from sklearn.metrics import classification_report,accuracy_score,f1_score,confusion_matrix, precision_score, recall_score\n",
        " \n",
        "prediction = model.predict(X_test)\n",
        "y_pred = (prediction)\n",
        "\n",
        "print(metrics.accuracy_score(y_test.argmax(axis=1), y_pred.argmax(axis=1)))\n",
        "target_names = ['negatif', 'positif']\n",
        "cnf_matrix_test = confusion_matrix(y_test.argmax(axis=1), y_pred.argmax(axis=1))\n",
        "print(classification_report(y_test.argmax(axis=1), y_pred.argmax(axis=1), target_names=target_names))\n",
        " \n",
        "df_cm = pd.DataFrame(cnf_matrix_test, range(2), range(2))\n",
        "sn.set(font_scale=1.4)\n",
        "sn.heatmap(df_cm,cmap=\"Blues\", annot=True, fmt='d')\n",
        "plt.title('Confussion Matrix ds')"
      ],
      "execution_count": null,
      "outputs": [
        {
          "output_type": "stream",
          "name": "stdout",
          "text": [
            "0.7651006711409396\n",
            "              precision    recall  f1-score   support\n",
            "\n",
            "     negatif       0.41      0.40      0.41        30\n",
            "     positif       0.85      0.86      0.85       119\n",
            "\n",
            "    accuracy                           0.77       149\n",
            "   macro avg       0.63      0.63      0.63       149\n",
            "weighted avg       0.76      0.77      0.76       149\n",
            "\n"
          ]
        },
        {
          "output_type": "execute_result",
          "data": {
            "text/plain": [
              "Text(0.5, 1.0, 'Confussion Matrix ds')"
            ]
          },
          "metadata": {},
          "execution_count": 17
        },
        {
          "output_type": "display_data",
          "data": {
            "image/png": "[encoded data removed]",
            "text/plain": [
              "<Figure size 432x288 with 2 Axes>"
            ]
          },
          "metadata": {}
        }
      ]
    },
    {
      "cell_type": "code",
      "metadata": {
        "id": "x_T08GayYAVn",
        "colab": {
          "base_uri": "https://localhost:8080/"
        },
        "outputId": "866547bb-c36e-4de1-a7a6-3ef5edc4388d"
      },
      "source": [
        "# uji coba prediksi\n",
        " \n",
        "twt = [input(\"Input sampel tweet: \")]\n",
        "twt = tokenizer.texts_to_sequences(twt)\n",
        "twt = pad_sequences(twt, dtype='int32', value=0)\n",
        "label = model.predict(twt)\n",
        "if(np.argmax(label) == 0):\n",
        "    print(\"negative\")\n",
        "elif (np.argmax(label) == 1):\n",
        "    print(\"positive\")"
      ],
      "execution_count": null,
      "outputs": [
        {
          "output_type": "stream",
          "name": "stdout",
          "text": [
            "Input sampel tweet: jangan takut efek samping suntik vaksin covid bisa sembuh sendiri nusantara satu\n",
            "positive\n"
          ]
        }
      ]
    }
  ]
}